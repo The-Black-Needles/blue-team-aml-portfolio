{
 "cells": [
  {
   "cell_type": "code",
   "execution_count": 1,
   "id": "d49fca2a-5786-4b57-a8d4-82d147928b19",
   "metadata": {},
   "outputs": [
    {
     "name": "stdout",
     "output_type": "stream",
     "text": [
      "Python: 3.12.11 (main, Jun  3 2025, 15:41:47) [Clang 17.0.0 (clang-1700.0.13.3)]\n",
      "Platform: macOS-15.6.1-arm64-arm-64bit\n",
      "pandas: 2.3.3\n",
      "numpy: 2.3.3\n",
      "scikit-learn: 1.7.2\n",
      "polars: 1.33.1\n",
      "matplotlib: 3.10.6\n"
     ]
    }
   ],
   "source": [
    "import sys, platform\n",
    "import pandas, numpy, sklearn, requests, polars, matplotlib\n",
    "print(\"Python:\", sys.version)\n",
    "print(\"Platform:\", platform.platform())\n",
    "print(\"pandas:\", pandas.__version__)\n",
    "print(\"numpy:\", numpy.__version__)\n",
    "print(\"scikit-learn:\", sklearn.__version__)\n",
    "print(\"polars:\", polars.__version__)\n",
    "print(\"matplotlib:\", matplotlib.__version__)\n"
   ]
  },
  {
   "cell_type": "code",
   "execution_count": 1,
   "id": "aefeadd2-f41b-4687-a55a-0578dced5093",
   "metadata": {},
   "outputs": [
    {
     "data": {
      "text/plain": [
       "'/Users/ricardoalmeida/Projetos/blue-team-aml-portfolio/notebooks'"
      ]
     },
     "execution_count": 1,
     "metadata": {},
     "output_type": "execute_result"
    }
   ],
   "source": [
    "pwd"
   ]
  },
  {
   "cell_type": "code",
   "execution_count": null,
   "id": "9b001318-694e-472f-80b3-5ff2c2268261",
   "metadata": {},
   "outputs": [],
   "source": []
  }
 ],
 "metadata": {
  "kernelspec": {
   "display_name": "Python (blue-team-aml-portfolio)",
   "language": "python",
   "name": "blue-team-aml-portfolio"
  },
  "language_info": {
   "codemirror_mode": {
    "name": "ipython",
    "version": 3
   },
   "file_extension": ".py",
   "mimetype": "text/x-python",
   "name": "python",
   "nbconvert_exporter": "python",
   "pygments_lexer": "ipython3",
   "version": "3.12.11"
  }
 },
 "nbformat": 4,
 "nbformat_minor": 5
}
