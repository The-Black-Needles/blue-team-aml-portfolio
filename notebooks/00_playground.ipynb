{
 "cells": [
  {
   "cell_type": "code",
   "execution_count": 1,
   "id": "d49fca2a-5786-4b57-a8d4-82d147928b19",
   "metadata": {},
   "outputs": [
    {
     "name": "stdout",
     "output_type": "stream",
     "text": [
      "Python: 3.12.11 (main, Jun  3 2025, 15:41:47) [Clang 17.0.0 (clang-1700.0.13.3)]\n",
      "Platform: macOS-15.6.1-arm64-arm-64bit\n",
      "pandas: 2.3.3\n",
      "numpy: 2.3.3\n",
      "scikit-learn: 1.7.2\n",
      "polars: 1.33.1\n",
      "matplotlib: 3.10.6\n"
     ]
    }
   ],
   "source": [
    "import sys, platform\n",
    "import pandas, numpy, sklearn, requests, polars, matplotlib\n",
    "print(\"Python:\", sys.version)\n",
    "print(\"Platform:\", platform.platform())\n",
    "print(\"pandas:\", pandas.__version__)\n",
    "print(\"numpy:\", numpy.__version__)\n",
    "print(\"scikit-learn:\", sklearn.__version__)\n",
    "print(\"polars:\", polars.__version__)\n",
    "print(\"matplotlib:\", matplotlib.__version__)\n"
   ]
  },
  {
   "cell_type": "code",
   "execution_count": 2,
   "id": "aefeadd2-f41b-4687-a55a-0578dced5093",
   "metadata": {},
   "outputs": [
    {
     "data": {
      "text/plain": [
       "'/Users/ricardoalmeida/Projetos/topaz-aml-soc/notebooks'"
      ]
     },
     "execution_count": 2,
     "metadata": {},
     "output_type": "execute_result"
    }
   ],
   "source": [
    "pwd"
   ]
  },
  {
   "cell_type": "code",
   "execution_count": 3,
   "id": "02f158a0-4da0-41c7-8100-4133b790b5e9",
   "metadata": {},
   "outputs": [
    {
     "ename": "SyntaxError",
     "evalue": "invalid syntax (2640329710.py, line 2)",
     "output_type": "error",
     "traceback": [
      "  \u001b[36mCell\u001b[39m\u001b[36m \u001b[39m\u001b[32mIn[3]\u001b[39m\u001b[32m, line 2\u001b[39m\n\u001b[31m    \u001b[39m\u001b[31mgit rev-parse --is-inside-work-tree\u001b[39m\n        ^\n\u001b[31mSyntaxError\u001b[39m\u001b[31m:\u001b[39m invalid syntax\n"
     ]
    }
   ],
   "source": [
    "pwd\n",
    "git rev-parse --is-inside-work-tree\n",
    "git status -s"
   ]
  },
  {
   "cell_type": "code",
   "execution_count": null,
   "id": "b01b683b-7849-488c-868a-7f8995298deb",
   "metadata": {},
   "outputs": [],
   "source": []
  }
 ],
 "metadata": {
  "kernelspec": {
   "display_name": "Python (topaz-aml-soc)",
   "language": "python",
   "name": "topaz-aml-soc"
  },
  "language_info": {
   "codemirror_mode": {
    "name": "ipython",
    "version": 3
   },
   "file_extension": ".py",
   "mimetype": "text/x-python",
   "name": "python",
   "nbconvert_exporter": "python",
   "pygments_lexer": "ipython3",
   "version": "3.12.11"
  }
 },
 "nbformat": 4,
 "nbformat_minor": 5
}
